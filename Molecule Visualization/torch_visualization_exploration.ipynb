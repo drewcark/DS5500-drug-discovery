{
 "cells": [
  {
   "cell_type": "code",
   "execution_count": 2,
   "id": "14dd5b92-3a2d-44d3-9814-6847ff5bcdb6",
   "metadata": {},
   "outputs": [],
   "source": [
    "import pandas as pd\n",
    "from rdkit import Chem\n",
    "import networkx as nx\n",
    "import torch\n",
    "from torch_geometric.nn import GCNConv\n",
    "from torch_geometric.data import Data\n",
    "from rdkit import RDLogger\n",
    "RDLogger.DisableLog('rdApp.error')\n",
    "\n",
    "from sklearn.model_selection import train_test_split\n",
    "from sklearn.metrics import precision_score\n",
    "import numpy as np\n",
    "from sklearn.metrics import recall_score\n",
    "from sklearn.metrics import roc_auc_score\n",
    "import torch.nn.functional as F\n",
    "\n",
    "import torch.nn as nn\n",
    "import torch.nn.functional as F"
   ]
  },
  {
   "cell_type": "code",
   "execution_count": 4,
   "id": "699bb649-7cd2-48b2-929e-2ccbc38aa089",
   "metadata": {},
   "outputs": [],
   "source": [
    "ddi_fp = 'drugbank.tab'\n",
    "ddi = pd.read_csv(ddi_fp, sep='\\t')\n",
    "def valid_smiles(smiles): \n",
    "    if not isinstance(smiles, str): \n",
    "        return False\n",
    "    return Chem.MolFromSmiles(smiles) is not None\n",
    "\n",
    "invalid_rows = ddi[~(ddi['X1'].apply(valid_smiles) & ddi['X2'].apply(valid_smiles))]\n",
    "ddi_cleaned = ddi.drop(invalid_rows.index).reset_index(drop = True)\n"
   ]
  },
  {
   "cell_type": "code",
   "execution_count": 5,
   "id": "e27f60f5-f03d-4d36-a1be-e4a4b36f8c7b",
   "metadata": {},
   "outputs": [],
   "source": [
    "smile = ddi_cleaned['X1'][92]"
   ]
  },
  {
   "cell_type": "code",
   "execution_count": 6,
   "id": "f95ee53f-53b5-4ace-8ca5-f4ca15c5d6e3",
   "metadata": {},
   "outputs": [
    {
     "data": {
      "text/plain": [
       "'CN1[C@H]2CC[C@@H]1C[C@@H](C2)OC(=O)[C@H](CO)C1=CC=CC=C1'"
      ]
     },
     "execution_count": 6,
     "metadata": {},
     "output_type": "execute_result"
    }
   ],
   "source": [
    "smile"
   ]
  },
  {
   "cell_type": "code",
   "execution_count": 8,
   "id": "6ab2cda5-f781-4419-b191-e18736f502b2",
   "metadata": {},
   "outputs": [
    {
     "data": {
      "image/jpeg": "[encoded data removed]",
      "image/png": "[encoded data removed]",
      "text/plain": [
       "<PIL.PngImagePlugin.PngImageFile image mode=RGB size=300x300>"
      ]
     },
     "execution_count": 8,
     "metadata": {},
     "output_type": "execute_result"
    }
   ],
   "source": [
    "from rdkit.Chem import Draw\n",
    "\n",
    "mol = Chem.MolFromSmiles(smile)\n",
    "img = Draw.MolToImage(mol)\n",
    "img"
   ]
  },
  {
   "cell_type": "code",
   "execution_count": 9,
   "id": "9fa2b11f-8d8d-4ed6-8266-5fd3eefa1e02",
   "metadata": {},
   "outputs": [
    {
     "data": {
      "text/plain": [
       "Data(x=[21, 9], edge_index=[2, 46], edge_attr=[46, 3], smiles='CN1[C@H]2CC[C@@H]1C[C@@H](C2)OC(=O)[C@H](CO)C1=CC=CC=C1')"
      ]
     },
     "execution_count": 9,
     "metadata": {},
     "output_type": "execute_result"
    }
   ],
   "source": [
    "from torch_geometric.utils import from_smiles\n",
    "\n",
    "g = from_smiles(smile, with_hydrogen = False)\n",
    "g\n"
   ]
  },
  {
   "cell_type": "code",
   "execution_count": 15,
   "id": "9fb3a2d3-09c0-4af9-a80e-e255458602be",
   "metadata": {},
   "outputs": [
    {
     "data": {
      "text/plain": [
       "21"
      ]
     },
     "execution_count": 15,
     "metadata": {},
     "output_type": "execute_result"
    }
   ],
   "source": [
    "# x is node feature matrix 21 atoms, 9 features/attributes\n",
    "g.x"
   ]
  },
  {
   "cell_type": "code",
   "execution_count": 16,
   "id": "70ab3d1f-8a9d-4a45-8317-7d7f451efb95",
   "metadata": {},
   "outputs": [
    {
     "data": {
      "text/plain": [
       "9"
      ]
     },
     "execution_count": 16,
     "metadata": {},
     "output_type": "execute_result"
    }
   ],
   "source": [
    "# 9 features utilized\n",
    "\n",
    "g.num_node_features"
   ]
  },
  {
   "cell_type": "code",
   "execution_count": 17,
   "id": "b42d181a-aad2-49f8-8217-4c2496ff253c",
   "metadata": {},
   "outputs": [
    {
     "data": {
      "text/plain": [
       "tensor([[ 0,  1,  1,  1,  2,  2,  2,  3,  3,  4,  4,  5,  5,  5,  6,  6,  7,  7,\n",
       "          7,  8,  8,  9,  9, 10, 10, 10, 11, 12, 12, 12, 13, 13, 14, 15, 15, 15,\n",
       "         16, 16, 17, 17, 18, 18, 19, 19, 20, 20],\n",
       "        [ 1,  0,  2,  5,  1,  3,  8,  2,  4,  3,  5,  1,  4,  6,  5,  7,  6,  8,\n",
       "          9,  2,  7,  7, 10,  9, 11, 12, 10, 10, 13, 15, 12, 14, 13, 12, 16, 20,\n",
       "         15, 17, 16, 18, 17, 19, 18, 20, 15, 19]])"
      ]
     },
     "execution_count": 17,
     "metadata": {},
     "output_type": "execute_result"
    }
   ],
   "source": [
    "# 2 tensors (undirected graph) into number of bonds\n",
    "g.edge_index"
   ]
  },
  {
   "cell_type": "code",
   "execution_count": 18,
   "id": "88a5ab86-51a8-4683-8214-236ca7e8030a",
   "metadata": {},
   "outputs": [
    {
     "data": {
      "text/plain": [
       "tensor([[ 1,  0,  0],\n",
       "        [ 1,  0,  0],\n",
       "        [ 1,  0,  0],\n",
       "        [ 1,  0,  0],\n",
       "        [ 1,  0,  0],\n",
       "        [ 1,  0,  0],\n",
       "        [ 1,  0,  0],\n",
       "        [ 1,  0,  0],\n",
       "        [ 1,  0,  0],\n",
       "        [ 1,  0,  0],\n",
       "        [ 1,  0,  0],\n",
       "        [ 1,  0,  0],\n",
       "        [ 1,  0,  0],\n",
       "        [ 1,  0,  0],\n",
       "        [ 1,  0,  0],\n",
       "        [ 1,  0,  0],\n",
       "        [ 1,  0,  0],\n",
       "        [ 1,  0,  0],\n",
       "        [ 1,  0,  0],\n",
       "        [ 1,  0,  0],\n",
       "        [ 1,  0,  0],\n",
       "        [ 1,  0,  0],\n",
       "        [ 1,  0,  1],\n",
       "        [ 1,  0,  1],\n",
       "        [ 2,  0,  1],\n",
       "        [ 1,  0,  0],\n",
       "        [ 2,  0,  1],\n",
       "        [ 1,  0,  0],\n",
       "        [ 1,  0,  0],\n",
       "        [ 1,  0,  0],\n",
       "        [ 1,  0,  0],\n",
       "        [ 1,  0,  0],\n",
       "        [ 1,  0,  0],\n",
       "        [ 1,  0,  0],\n",
       "        [12,  0,  1],\n",
       "        [12,  0,  1],\n",
       "        [12,  0,  1],\n",
       "        [12,  0,  1],\n",
       "        [12,  0,  1],\n",
       "        [12,  0,  1],\n",
       "        [12,  0,  1],\n",
       "        [12,  0,  1],\n",
       "        [12,  0,  1],\n",
       "        [12,  0,  1],\n",
       "        [12,  0,  1],\n",
       "        [12,  0,  1]])"
      ]
     },
     "execution_count": 18,
     "metadata": {},
     "output_type": "execute_result"
    }
   ],
   "source": [
    "g.edge_attr"
   ]
  },
  {
   "cell_type": "raw",
   "id": "6fd2293f-37fa-4f3e-a84b-37b305a43846",
   "metadata": {},
   "source": [
    "networkx is used for the study of the structure, dynamics, and functions of complex networks\n",
    "\n",
    "can use to generate graphs\n",
    "can also use to analyze our graphs "
   ]
  },
  {
   "cell_type": "code",
   "execution_count": 23,
   "id": "f1f5f47e-0ee6-46c9-bbfa-f63513b7eaeb",
   "metadata": {},
   "outputs": [],
   "source": [
    "from torch_geometric.data import Data\n",
    "from torch_geometric.loader import DataLoader\n",
    "from torch_geometric.utils import to_networkx\n",
    "from torch_geometric.nn import AttentiveFP\n"
   ]
  },
  {
   "cell_type": "code",
   "execution_count": 24,
   "id": "3dfd80b4-5288-487b-afb1-bbd9bb79e42a",
   "metadata": {},
   "outputs": [],
   "source": [
    "# convert torch_geometric data to networkx graph\n",
    "G = to_networkx(g)"
   ]
  },
  {
   "cell_type": "code",
   "execution_count": 26,
   "id": "d13fb3e0-1ef4-489a-b405-a0c8070a5031",
   "metadata": {},
   "outputs": [
    {
     "data": {
      "text/plain": [
       "21"
      ]
     },
     "execution_count": 26,
     "metadata": {},
     "output_type": "execute_result"
    }
   ],
   "source": [
    "G.number_of_nodes()"
   ]
  },
  {
   "cell_type": "code",
   "execution_count": 27,
   "id": "3c36b177-2449-42f5-bcda-0be760fa0162",
   "metadata": {},
   "outputs": [
    {
     "data": {
      "text/plain": [
       "46"
      ]
     },
     "execution_count": 27,
     "metadata": {},
     "output_type": "execute_result"
    }
   ],
   "source": [
    "G.number_of_edges()"
   ]
  },
  {
   "cell_type": "code",
   "execution_count": 34,
   "id": "fba8d5e9-f131-4ec9-a70f-b8328356b537",
   "metadata": {},
   "outputs": [
    {
     "data": {
      "image/png": "[encoded data removed]",
      "text/plain": [
       "<Figure size 640x480 with 1 Axes>"
      ]
     },
     "metadata": {},
     "output_type": "display_data"
    }
   ],
   "source": [
    "import matplotlib.pyplot as plt\n",
    "nx.draw(G, with_labels = True)"
   ]
  },
  {
   "cell_type": "code",
   "execution_count": null,
   "id": "3f69673a-36d3-418b-b684-56cb48f8ac62",
   "metadata": {},
   "outputs": [],
   "source": []
  }
 ],
 "metadata": {
  "kernelspec": {
   "display_name": "Python (myenv)",
   "language": "python",
   "name": "myenv"
  },
  "language_info": {
   "codemirror_mode": {
    "name": "ipython",
    "version": 3
   },
   "file_extension": ".py",
   "mimetype": "text/x-python",
   "name": "python",
   "nbconvert_exporter": "python",
   "pygments_lexer": "ipython3",
   "version": "3.12.7"
  }
 },
 "nbformat": 4,
 "nbformat_minor": 5
}
