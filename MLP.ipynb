{
  "nbformat": 4,
  "nbformat_minor": 0,
  "metadata": {
    "colab": {
      "provenance": []
    },
    "kernelspec": {
      "name": "python3",
      "display_name": "Python 3"
    },
    "language_info": {
      "name": "python"
    }
  },
  "cells": [
    {
      "cell_type": "code",
      "execution_count": null,
      "metadata": {
        "id": "hG9yOxIohin7"
      },
      "outputs": [],
      "source": [
        "import pandas as pd\n",
        "import numpy as np\n",
        "from sklearn.model_selection import StratifiedShuffleSplit\n",
        "from sklearn.preprocessing import LabelEncoder, StandardScaler\n",
        "from sklearn.neural_network import MLPClassifier\n",
        "from sklearn.metrics import classification_report, ConfusionMatrixDisplay\n",
        "from imblearn.under_sampling import RandomUnderSampler\n",
        "import matplotlib.pyplot as plt\n",
        "\n",
        "ddi = pd.read_csv(\"drugbank_with_features.csv\", sep=\"\\t\")\n",
        "\n",
        "top_classes = ddi['Y'].value_counts().nlargest(5).index\n",
        "ddi = ddi[ddi['Y'].isin(top_classes)].copy()\n",
        "\n",
        "label_encoder = LabelEncoder()\n",
        "ddi['category_encoded'] = label_encoder.fit_transform(ddi['Y'])\n",
        "\n",
        "feature_columns = [\n",
        "    'MolWt_X1', 'LogP_X1', 'NumHDonors_X1', 'NumHAcceptors_X1', 'TPSA_X1',\n",
        "    'MolWt_X2', 'LogP_X2', 'NumHDonors_X2', 'NumHAcceptors_X2', 'TPSA_X2'\n",
        "]\n",
        "X = ddi[feature_columns].values\n",
        "y = ddi['category_encoded'].values\n",
        "\n",
        "split = StratifiedShuffleSplit(n_splits=1, test_size=0.2, random_state=42)\n",
        "for train_idx, test_idx in split.split(X, y):\n",
        "    X_train, X_test = X[train_idx], X[test_idx]\n",
        "    y_train, y_test = y[train_idx], y[test_idx]\n",
        "\n",
        "rus = RandomUnderSampler(random_state=42)\n",
        "X_train_bal, y_train_bal = rus.fit_resample(X_train, y_train)\n",
        "\n",
        "scaler = StandardScaler()\n",
        "X_train_bal = scaler.fit_transform(X_train_bal)\n",
        "X_test = scaler.transform(X_test)\n",
        "\n",
        "mlp = MLPClassifier(\n",
        "    hidden_layer_sizes=(128, 64),\n",
        "    max_iter=300,\n",
        "    solver='adam',\n",
        "    random_state=42,\n",
        "    early_stopping=True\n",
        ")\n",
        "\n",
        "mlp.fit(X_train_bal, y_train_bal)\n",
        "\n",
        "y_pred = mlp.predict(X_test)\n",
        "\n",
        "target_names = [str(cls) for cls in label_encoder.classes_]\n",
        "print(\"\\nClassification Report:\")\n",
        "print(classification_report(y_test, y_pred, target_names=target_names, digits=2))"
      ]
    }
  ]
}